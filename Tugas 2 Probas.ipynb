{
 "cells": [
  {
   "cell_type": "markdown",
   "id": "3b161106",
   "metadata": {},
   "source": [
    "### Nama  : Hadie Pratama Tulili ###\n",
    "### NIM   : 2109106043 ###\n",
    "### Kelas : Informatika A 21 ###\n",
    "\n",
    "# <center><br>UTS PROBABILITAS DAN STATISTIKA</center><br> #"
   ]
  },
  {
   "cell_type": "markdown",
   "id": "177afbce",
   "metadata": {},
   "source": [
    "## Import Library Yang Dibutuhkan\n",
    "[NumPy](https://numpy.org/) | [Pandas](https://pandas.pydata.org/) | [Matplotlib](https://matplotlib.org/) | [Seaborn](https://seaborn.pydata.org/)"
   ]
  },
  {
   "cell_type": "code",
   "execution_count": 2,
   "id": "800c5243",
   "metadata": {},
   "outputs": [],
   "source": [
    "import numpy as np\n",
    "import pandas as pd\n",
    "import matplotlib.pyplot as plt\n",
    "import seaborn as sns"
   ]
  },
  {
   "cell_type": "markdown",
   "id": "fbf59de6",
   "metadata": {},
   "source": [
    "## Menampilkan Dataset"
   ]
  },
  {
   "cell_type": "code",
   "execution_count": 3,
   "id": "8ee19e9b",
   "metadata": {},
   "outputs": [
    {
     "data": {
      "text/html": [
       "<div>\n",
       "<style scoped>\n",
       "    .dataframe tbody tr th:only-of-type {\n",
       "        vertical-align: middle;\n",
       "    }\n",
       "\n",
       "    .dataframe tbody tr th {\n",
       "        vertical-align: top;\n",
       "    }\n",
       "\n",
       "    .dataframe thead th {\n",
       "        text-align: right;\n",
       "    }\n",
       "</style>\n",
       "<table border=\"1\" class=\"dataframe\">\n",
       "  <thead>\n",
       "    <tr style=\"text-align: right;\">\n",
       "      <th></th>\n",
       "      <th>gender</th>\n",
       "      <th>race/ethnicity</th>\n",
       "      <th>parental level of education</th>\n",
       "      <th>lunch</th>\n",
       "      <th>test preparation course</th>\n",
       "      <th>math_score</th>\n",
       "      <th>reading_score</th>\n",
       "      <th>writing_score</th>\n",
       "    </tr>\n",
       "  </thead>\n",
       "  <tbody>\n",
       "    <tr>\n",
       "      <th>0</th>\n",
       "      <td>female</td>\n",
       "      <td>group B</td>\n",
       "      <td>bachelor's degree</td>\n",
       "      <td>standard</td>\n",
       "      <td>none</td>\n",
       "      <td>72</td>\n",
       "      <td>72</td>\n",
       "      <td>74</td>\n",
       "    </tr>\n",
       "    <tr>\n",
       "      <th>1</th>\n",
       "      <td>female</td>\n",
       "      <td>group C</td>\n",
       "      <td>some college</td>\n",
       "      <td>standard</td>\n",
       "      <td>completed</td>\n",
       "      <td>69</td>\n",
       "      <td>90</td>\n",
       "      <td>88</td>\n",
       "    </tr>\n",
       "    <tr>\n",
       "      <th>2</th>\n",
       "      <td>female</td>\n",
       "      <td>group B</td>\n",
       "      <td>master's degree</td>\n",
       "      <td>standard</td>\n",
       "      <td>none</td>\n",
       "      <td>90</td>\n",
       "      <td>95</td>\n",
       "      <td>93</td>\n",
       "    </tr>\n",
       "    <tr>\n",
       "      <th>3</th>\n",
       "      <td>male</td>\n",
       "      <td>group A</td>\n",
       "      <td>associate's degree</td>\n",
       "      <td>free/reduced</td>\n",
       "      <td>none</td>\n",
       "      <td>47</td>\n",
       "      <td>57</td>\n",
       "      <td>44</td>\n",
       "    </tr>\n",
       "    <tr>\n",
       "      <th>4</th>\n",
       "      <td>male</td>\n",
       "      <td>group C</td>\n",
       "      <td>some college</td>\n",
       "      <td>standard</td>\n",
       "      <td>none</td>\n",
       "      <td>76</td>\n",
       "      <td>78</td>\n",
       "      <td>75</td>\n",
       "    </tr>\n",
       "    <tr>\n",
       "      <th>5</th>\n",
       "      <td>female</td>\n",
       "      <td>group B</td>\n",
       "      <td>associate's degree</td>\n",
       "      <td>standard</td>\n",
       "      <td>none</td>\n",
       "      <td>71</td>\n",
       "      <td>83</td>\n",
       "      <td>78</td>\n",
       "    </tr>\n",
       "    <tr>\n",
       "      <th>6</th>\n",
       "      <td>female</td>\n",
       "      <td>group B</td>\n",
       "      <td>some college</td>\n",
       "      <td>standard</td>\n",
       "      <td>completed</td>\n",
       "      <td>88</td>\n",
       "      <td>95</td>\n",
       "      <td>92</td>\n",
       "    </tr>\n",
       "    <tr>\n",
       "      <th>7</th>\n",
       "      <td>male</td>\n",
       "      <td>group B</td>\n",
       "      <td>some college</td>\n",
       "      <td>free/reduced</td>\n",
       "      <td>none</td>\n",
       "      <td>40</td>\n",
       "      <td>43</td>\n",
       "      <td>39</td>\n",
       "    </tr>\n",
       "    <tr>\n",
       "      <th>8</th>\n",
       "      <td>male</td>\n",
       "      <td>group D</td>\n",
       "      <td>high school</td>\n",
       "      <td>free/reduced</td>\n",
       "      <td>completed</td>\n",
       "      <td>64</td>\n",
       "      <td>64</td>\n",
       "      <td>67</td>\n",
       "    </tr>\n",
       "    <tr>\n",
       "      <th>9</th>\n",
       "      <td>female</td>\n",
       "      <td>group B</td>\n",
       "      <td>high school</td>\n",
       "      <td>free/reduced</td>\n",
       "      <td>none</td>\n",
       "      <td>38</td>\n",
       "      <td>60</td>\n",
       "      <td>50</td>\n",
       "    </tr>\n",
       "  </tbody>\n",
       "</table>\n",
       "</div>"
      ],
      "text/plain": [
       "   gender race/ethnicity parental level of education         lunch  \\\n",
       "0  female        group B           bachelor's degree      standard   \n",
       "1  female        group C                some college      standard   \n",
       "2  female        group B             master's degree      standard   \n",
       "3    male        group A          associate's degree  free/reduced   \n",
       "4    male        group C                some college      standard   \n",
       "5  female        group B          associate's degree      standard   \n",
       "6  female        group B                some college      standard   \n",
       "7    male        group B                some college  free/reduced   \n",
       "8    male        group D                 high school  free/reduced   \n",
       "9  female        group B                 high school  free/reduced   \n",
       "\n",
       "  test preparation course  math_score  reading_score  writing_score  \n",
       "0                    none          72             72             74  \n",
       "1               completed          69             90             88  \n",
       "2                    none          90             95             93  \n",
       "3                    none          47             57             44  \n",
       "4                    none          76             78             75  \n",
       "5                    none          71             83             78  \n",
       "6               completed          88             95             92  \n",
       "7                    none          40             43             39  \n",
       "8               completed          64             64             67  \n",
       "9                    none          38             60             50  "
      ]
     },
     "execution_count": 3,
     "metadata": {},
     "output_type": "execute_result"
    }
   ],
   "source": [
    "df = pd.read_csv(\"./Dr.-Fahrul-Agus,MT_Dr.-Fahrul-Agus,MT_StudentsPerformance.csv\")\n",
    "df.head(10)"
   ]
  },
  {
   "cell_type": "markdown",
   "id": "48fe0de8",
   "metadata": {},
   "source": [
    "## Tipe data dari setiap variabel"
   ]
  },
  {
   "cell_type": "code",
   "execution_count": 4,
   "id": "e90c8cb4",
   "metadata": {},
   "outputs": [
    {
     "data": {
      "text/plain": [
       "gender                         object\n",
       "race/ethnicity                 object\n",
       "parental level of education    object\n",
       "lunch                          object\n",
       "test preparation course        object\n",
       "math_score                      int64\n",
       "reading_score                   int64\n",
       "writing_score                   int64\n",
       "dtype: object"
      ]
     },
     "execution_count": 4,
     "metadata": {},
     "output_type": "execute_result"
    }
   ],
   "source": [
    "df.dtypes"
   ]
  },
  {
   "cell_type": "markdown",
   "id": "db78f362",
   "metadata": {},
   "source": [
    "## Buat Tabel Distribusi Frekuensi dan Histogram Variabe reading_score dan writing_score dengan jumlah dan lebar interval sebesar 10."
   ]
  },
  {
   "cell_type": "markdown",
   "id": "52109008",
   "metadata": {},
   "source": [
    "### Tabel Distribusi Frekuensi"
   ]
  },
  {
   "cell_type": "code",
   "execution_count": 5,
   "id": "94841123",
   "metadata": {},
   "outputs": [],
   "source": [
    "def tabel_distribusi_frekuensi(data):\n",
    "    nilai_terkecil = 0\n",
    "    nilai_terbesar = data[len(data)-1]\n",
    "    bins = []\n",
    "    \n",
    "    i = nilai_terkecil\n",
    "    while True:\n",
    "        if i < nilai_terbesar:\n",
    "            bins.append(i)\n",
    "        else:\n",
    "            bins.append(i)\n",
    "            break\n",
    "        i += 10\n",
    "    \n",
    "    data_bins = pd.cut(data, bins=bins)\n",
    "\n",
    "    distribusi_frekuensi = pd.DataFrame(data_bins.value_counts().sort_index().rename(\"frekuensi\")).reset_index()\n",
    "    return distribusi_frekuensi.rename(columns={\"index\": \"interval\"})"
   ]
  },
  {
   "cell_type": "markdown",
   "id": "296137d0",
   "metadata": {},
   "source": [
    "#### a) Reading Score"
   ]
  },
  {
   "cell_type": "code",
   "execution_count": 6,
   "metadata": {},
   "outputs": [
    {
     "data": {
      "text/html": [
       "<div>\n",
       "<style scoped>\n",
       "    .dataframe tbody tr th:only-of-type {\n",
       "        vertical-align: middle;\n",
       "    }\n",
       "\n",
       "    .dataframe tbody tr th {\n",
       "        vertical-align: top;\n",
       "    }\n",
       "\n",
       "    .dataframe thead th {\n",
       "        text-align: right;\n",
       "    }\n",
       "</style>\n",
       "<table border=\"1\" class=\"dataframe\">\n",
       "  <thead>\n",
       "    <tr style=\"text-align: right;\">\n",
       "      <th></th>\n",
       "      <th>interval</th>\n",
       "      <th>frekuensi</th>\n",
       "    </tr>\n",
       "  </thead>\n",
       "  <tbody>\n",
       "    <tr>\n",
       "      <th>0</th>\n",
       "      <td>(0, 10]</td>\n",
       "      <td>0</td>\n",
       "    </tr>\n",
       "    <tr>\n",
       "      <th>1</th>\n",
       "      <td>(10, 20]</td>\n",
       "      <td>1</td>\n",
       "    </tr>\n",
       "    <tr>\n",
       "      <th>2</th>\n",
       "      <td>(20, 30]</td>\n",
       "      <td>7</td>\n",
       "    </tr>\n",
       "    <tr>\n",
       "      <th>3</th>\n",
       "      <td>(30, 40]</td>\n",
       "      <td>19</td>\n",
       "    </tr>\n",
       "    <tr>\n",
       "      <th>4</th>\n",
       "      <td>(40, 50]</td>\n",
       "      <td>70</td>\n",
       "    </tr>\n",
       "    <tr>\n",
       "      <th>5</th>\n",
       "      <td>(50, 60]</td>\n",
       "      <td>178</td>\n",
       "    </tr>\n",
       "    <tr>\n",
       "      <th>6</th>\n",
       "      <td>(60, 70]</td>\n",
       "      <td>238</td>\n",
       "    </tr>\n",
       "    <tr>\n",
       "      <th>7</th>\n",
       "      <td>(70, 80]</td>\n",
       "      <td>252</td>\n",
       "    </tr>\n",
       "    <tr>\n",
       "      <th>8</th>\n",
       "      <td>(80, 90]</td>\n",
       "      <td>173</td>\n",
       "    </tr>\n",
       "    <tr>\n",
       "      <th>9</th>\n",
       "      <td>(90, 100]</td>\n",
       "      <td>62</td>\n",
       "    </tr>\n",
       "  </tbody>\n",
       "</table>\n",
       "</div>"
      ],
      "text/plain": [
       "    interval  frekuensi\n",
       "0    (0, 10]          0\n",
       "1   (10, 20]          1\n",
       "2   (20, 30]          7\n",
       "3   (30, 40]         19\n",
       "4   (40, 50]         70\n",
       "5   (50, 60]        178\n",
       "6   (60, 70]        238\n",
       "7   (70, 80]        252\n",
       "8   (80, 90]        173\n",
       "9  (90, 100]         62"
      ]
     },
     "execution_count": 6,
     "metadata": {},
     "output_type": "execute_result"
    }
   ],
   "source": [
    "data_readScore  = df[\"reading_score\"].sort_values().reset_index(drop=True)\n",
    "table_readScore = tabel_distribusi_frekuensi(data_readScore)\n",
    "table_readScore"
   ]
  },
  {
   "cell_type": "markdown",
   "id": "a85201b4",
   "metadata": {},
   "source": [
    "#### b) Writing Score"
   ]
  },
  {
   "cell_type": "code",
   "execution_count": 7,
   "id": "07158031",
   "metadata": {},
   "outputs": [
    {
     "data": {
      "text/html": [
       "<div>\n",
       "<style scoped>\n",
       "    .dataframe tbody tr th:only-of-type {\n",
       "        vertical-align: middle;\n",
       "    }\n",
       "\n",
       "    .dataframe tbody tr th {\n",
       "        vertical-align: top;\n",
       "    }\n",
       "\n",
       "    .dataframe thead th {\n",
       "        text-align: right;\n",
       "    }\n",
       "</style>\n",
       "<table border=\"1\" class=\"dataframe\">\n",
       "  <thead>\n",
       "    <tr style=\"text-align: right;\">\n",
       "      <th></th>\n",
       "      <th>interval</th>\n",
       "      <th>frekuensi</th>\n",
       "    </tr>\n",
       "  </thead>\n",
       "  <tbody>\n",
       "    <tr>\n",
       "      <th>0</th>\n",
       "      <td>(0, 10]</td>\n",
       "      <td>1</td>\n",
       "    </tr>\n",
       "    <tr>\n",
       "      <th>1</th>\n",
       "      <td>(10, 20]</td>\n",
       "      <td>2</td>\n",
       "    </tr>\n",
       "    <tr>\n",
       "      <th>2</th>\n",
       "      <td>(20, 30]</td>\n",
       "      <td>7</td>\n",
       "    </tr>\n",
       "    <tr>\n",
       "      <th>3</th>\n",
       "      <td>(30, 40]</td>\n",
       "      <td>25</td>\n",
       "    </tr>\n",
       "    <tr>\n",
       "      <th>4</th>\n",
       "      <td>(40, 50]</td>\n",
       "      <td>89</td>\n",
       "    </tr>\n",
       "    <tr>\n",
       "      <th>5</th>\n",
       "      <td>(50, 60]</td>\n",
       "      <td>177</td>\n",
       "    </tr>\n",
       "    <tr>\n",
       "      <th>6</th>\n",
       "      <td>(60, 70]</td>\n",
       "      <td>243</td>\n",
       "    </tr>\n",
       "    <tr>\n",
       "      <th>7</th>\n",
       "      <td>(70, 80]</td>\n",
       "      <td>248</td>\n",
       "    </tr>\n",
       "    <tr>\n",
       "      <th>8</th>\n",
       "      <td>(80, 90]</td>\n",
       "      <td>140</td>\n",
       "    </tr>\n",
       "    <tr>\n",
       "      <th>9</th>\n",
       "      <td>(90, 100]</td>\n",
       "      <td>68</td>\n",
       "    </tr>\n",
       "  </tbody>\n",
       "</table>\n",
       "</div>"
      ],
      "text/plain": [
       "    interval  frekuensi\n",
       "0    (0, 10]          1\n",
       "1   (10, 20]          2\n",
       "2   (20, 30]          7\n",
       "3   (30, 40]         25\n",
       "4   (40, 50]         89\n",
       "5   (50, 60]        177\n",
       "6   (60, 70]        243\n",
       "7   (70, 80]        248\n",
       "8   (80, 90]        140\n",
       "9  (90, 100]         68"
      ]
     },
     "execution_count": 7,
     "metadata": {},
     "output_type": "execute_result"
    }
   ],
   "source": [
    "data_writeScore  = df[\"writing_score\"].sort_values().reset_index(drop=True)\n",
    "table_writeScore = tabel_distribusi_frekuensi(data_writeScore)\n",
    "table_writeScore"
   ]
  },
  {
   "cell_type": "markdown",
   "id": "f0a92e80",
   "metadata": {},
   "source": [
    "## Diagram Histogram"
   ]
  },
  {
   "cell_type": "markdown",
   "id": "6a9edd5e",
   "metadata": {},
   "source": [
    "#### a) Reading Score"
   ]
  },
  {
   "cell_type": "code",
   "execution_count": 8,
   "id": "68fa4380",
   "metadata": {},
   "outputs": [
    {
     "data": {
      "image/png": "[encoded data removed]",
      "text/plain": [
       "<Figure size 720x360 with 1 Axes>"
      ]
     },
     "metadata": {
      "needs_background": "light"
     },
     "output_type": "display_data"
    }
   ],
   "source": [
    "histogram_readScore = table_readScore.plot(kind='bar', align='center', width=1.0, figsize=(10,5),color='green', grid=True)\n",
    "histogram_readScore.set_xticks(np.arange(len(table_readScore)))\n",
    "histogram_readScore.set_xticklabels(table_readScore['interval'], rotation=0)\n",
    "histogram_readScore.set_xlabel(\"Interval\")\n",
    "histogram_readScore.set_ylabel(\"Frekuensi\")\n",
    "histogram_readScore.set_title(\"Diagram Histogram Read Score\")\n",
    "plt.show()"
   ]
  },
  {
   "cell_type": "markdown",
   "id": "c214c064",
   "metadata": {},
   "source": [
    "#### b) Writing Score"
   ]
  },
  {
   "cell_type": "code",
   "execution_count": 9,
   "id": "6e8e2936",
   "metadata": {},
   "outputs": [
    {
     "data": {
      "image/png": "[encoded data removed]",
      "text/plain": [
       "<Figure size 720x360 with 1 Axes>"
      ]
     },
     "metadata": {
      "needs_background": "light"
     },
     "output_type": "display_data"
    }
   ],
   "source": [
    "histogram_writeScore = table_writeScore.plot(kind='bar', align='center', width=1.0, figsize=(10,5),color='green',grid=True)\n",
    "histogram_writeScore.set_xticks(np.arange(len(table_writeScore)))\n",
    "histogram_writeScore.set_xticklabels(table_writeScore['interval'], rotation=0)\n",
    "histogram_writeScore.set_xlabel(\"Interval\")\n",
    "histogram_writeScore.set_ylabel(\"Frekuensi\")\n",
    "histogram_writeScore.set_title(\"Diagram Histogram Write Score\")\n",
    "plt.show()"
   ]
  },
  {
   "cell_type": "markdown",
   "id": "446b4824",
   "metadata": {},
   "source": [
    "##  Tentukan nilai Tendensi Central: Rata-rata, Median, Modus, Min dan Max data kedua variable tersebut."
   ]
  },
  {
   "cell_type": "markdown",
   "id": "e3044170",
   "metadata": {},
   "source": [
    "#### a) Reading Score"
   ]
  },
  {
   "cell_type": "code",
   "execution_count": 10,
   "id": "844d76ba",
   "metadata": {},
   "outputs": [],
   "source": [
    "def mode(numbers):\n",
    "    mode = [0, 0]\n",
    "    for num in numbers:\n",
    "        frequency = numbers.count(num)\n",
    "        if (frequency >= mode[1]):\n",
    "            mode = [num, frequency]\n",
    "    return mode[0]"
   ]
  },
  {
   "cell_type": "code",
   "execution_count": 11,
   "id": "3f5ea420",
   "metadata": {},
   "outputs": [
    {
     "name": "stdout",
     "output_type": "stream",
     "text": [
      "Rata-rata          : 69.169\n",
      "Median             : 70.0\n",
      "Modus              : 72\n",
      "Min                : 17\n",
      "Max                : 100\n"
     ]
    }
   ],
   "source": [
    "print(\"Rata-rata          : \" + str(df['reading_score'].mean()))\n",
    "print(\"Median             : \" + str(df['reading_score'].median()))\n",
    "print(\"Modus              : \" + str(mode(df['reading_score'].tolist())))\n",
    "print(\"Min                : \" + str(df['reading_score'].min()))\n",
    "print(\"Max                : \" + str(df['reading_score'].max()))"
   ]
  },
  {
   "cell_type": "markdown",
   "id": "0db85de3",
   "metadata": {},
   "source": [
    "#### b) Writing Score"
   ]
  },
  {
   "cell_type": "code",
   "execution_count": 12,
   "id": "1cd95231",
   "metadata": {},
   "outputs": [
    {
     "name": "stdout",
     "output_type": "stream",
     "text": [
      "Rata-rata          : 68.054\n",
      "Median             : 69.0\n",
      "Modus              : 74\n",
      "Min                : 10\n",
      "Max                : 100\n"
     ]
    }
   ],
   "source": [
    "print(\"Rata-rata          : \" + str(df['writing_score'].mean()))\n",
    "print(\"Median             : \" + str(df['writing_score'].median()))\n",
    "print(\"Modus              : \" + str(mode(df['writing_score'].tolist())))\n",
    "print(\"Min                : \" + str(df['writing_score'].min()))\n",
    "print(\"Max                : \" + str(df['writing_score'].max()))"
   ]
  },
  {
   "cell_type": "markdown",
   "id": "0b364f90",
   "metadata": {},
   "source": [
    "## Tentukan nilai Variasi: Jangkauan Range, Kisaran Interkuartil, Varians, Standar Deviasi data reading_score dan writing_score."
   ]
  },
  {
   "cell_type": "markdown",
   "id": "08b64987",
   "metadata": {},
   "source": [
    "#### a) Reading Score"
   ]
  },
  {
   "cell_type": "code",
   "execution_count": 13,
   "id": "790957fe",
   "metadata": {},
   "outputs": [
    {
     "name": "stdout",
     "output_type": "stream",
     "text": [
      "Jangkauan Range      : 83\n",
      "Kuartil Bawah (Q1)   : 59.0\n",
      "Kuartil Tengah (Q2)  : 70.0\n",
      "Kuartil Atas (Q3)    : 79.0\n",
      "Varians              : 213.16560460460462\n",
      "Standar Deviasi      : 14.600191937252216\n"
     ]
    }
   ],
   "source": [
    "print(\"Jangkauan Range      : \" + str(df['reading_score'].max() - df['reading_score'].min()))\n",
    "print(\"Kuartil Bawah (Q1)   : \" + str(df['reading_score'].quantile(0.25)))\n",
    "print(\"Kuartil Tengah (Q2)  : \" + str(df['reading_score'].quantile(0.50)))\n",
    "print(\"Kuartil Atas (Q3)    : \" + str(df['reading_score'].quantile(0.75)))\n",
    "print(\"Varians              : \" + str(df['reading_score'].var()))\n",
    "print(\"Standar Deviasi      : \" + str(df['reading_score'].std()))"
   ]
  },
  {
   "cell_type": "markdown",
   "id": "2a8fda62",
   "metadata": {},
   "source": [
    "#### b) Writing Score"
   ]
  },
  {
   "cell_type": "code",
   "execution_count": 14,
   "id": "ba1f6271",
   "metadata": {},
   "outputs": [
    {
     "name": "stdout",
     "output_type": "stream",
     "text": [
      "Jangkauan Range      : 90\n",
      "Kuartil Bawah (Q1)   : 57.75\n",
      "Kuartil Tengah (Q2)  : 69.0\n",
      "Kuartil Atas (Q3)    : 79.0\n",
      "Varians              : 230.907991991992\n",
      "Standar Deviasi      : 15.19565701086965\n"
     ]
    }
   ],
   "source": [
    "print(\"Jangkauan Range      : \" + str(df['writing_score'].max() - df['writing_score'].min()))\n",
    "print(\"Kuartil Bawah (Q1)   : \" + str(df['writing_score'].quantile(0.25)))\n",
    "print(\"Kuartil Tengah (Q2)  : \" + str(df['writing_score'].quantile(0.50)))\n",
    "print(\"Kuartil Atas (Q3)    : \" + str(df['writing_score'].quantile(0.75)))\n",
    "print(\"Varians              : \" + str(df['writing_score'].var()))\n",
    "print(\"Standar Deviasi      : \" + str(df['writing_score'].std()))"
   ]
  },
  {
   "cell_type": "markdown",
   "id": "6cbb0b11",
   "metadata": {},
   "source": [
    "## Buat Grafik data Variabel reading_score dan writing_score: Histogram, BOX PLOT, dan Tentukan Nilai Skewness dan Kurtosis. Buat interpretasi saudara tentang perbedaan distribusi kedua variable tersebut, terutama pada gambar BOX PLOT dan nilai Skewness - Kurtosisnya."
   ]
  },
  {
   "cell_type": "markdown",
   "id": "cee868a8",
   "metadata": {},
   "source": [
    "## Histogram"
   ]
  },
  {
   "cell_type": "markdown",
   "id": "14fdaf11",
   "metadata": {},
   "source": [
    "#### a) Reading Score"
   ]
  },
  {
   "cell_type": "code",
   "execution_count": 15,
   "id": "e6381a7d",
   "metadata": {},
   "outputs": [
    {
     "data": {
      "image/png": "[encoded data removed]",
      "text/plain": [
       "<Figure size 720x360 with 1 Axes>"
      ]
     },
     "metadata": {
      "needs_background": "light"
     },
     "output_type": "display_data"
    }
   ],
   "source": [
    "histogram_readScore = table_readScore.plot(kind='bar', align='center', width=1.0, figsize=(10,5), grid=True)\n",
    "histogram_readScore.set_xticks(np.arange(len(table_readScore)))\n",
    "histogram_readScore.set_xticklabels(table_readScore['interval'], rotation=0)\n",
    "histogram_readScore.set_xlabel(\"Interval\")\n",
    "histogram_readScore.set_ylabel(\"Frekuensi\")\n",
    "histogram_readScore.set_title(\"Diagram Histogram Read Score\")\n",
    "plt.show()"
   ]
  },
  {
   "cell_type": "markdown",
   "id": "cbb8f548",
   "metadata": {},
   "source": [
    "#### b) Writing Score"
   ]
  },
  {
   "cell_type": "code",
   "execution_count": 16,
   "id": "38e85520",
   "metadata": {},
   "outputs": [
    {
     "data": {
      "image/png": "[encoded data removed]",
      "text/plain": [
       "<Figure size 720x360 with 1 Axes>"
      ]
     },
     "metadata": {
      "needs_background": "light"
     },
     "output_type": "display_data"
    }
   ],
   "source": [
    "histogram_readScore = table_writeScore.plot(kind='bar', align='center', width=1.0, figsize=(10,5), grid=True)\n",
    "histogram_readScore.set_xticks(np.arange(len(table_writeScore)))\n",
    "histogram_readScore.set_xticklabels(table_writeScore['interval'], rotation=0)\n",
    "histogram_readScore.set_xlabel(\"Interval\")\n",
    "histogram_readScore.set_ylabel(\"Frekuensi\")\n",
    "histogram_readScore.set_title(\"Diagram Histogram Read Score\")\n",
    "plt.show()"
   ]
  },
  {
   "cell_type": "markdown",
   "id": "fb23391c",
   "metadata": {},
   "source": [
    "## Boxplot"
   ]
  },
  {
   "cell_type": "markdown",
   "id": "f894c8a8",
   "metadata": {},
   "source": [
    "#### a) Reading Score"
   ]
  },
  {
   "cell_type": "code",
   "execution_count": 17,
   "id": "852d53d7",
   "metadata": {},
   "outputs": [
    {
     "data": {
      "text/plain": [
       "<AxesSubplot: >"
      ]
     },
     "execution_count": 17,
     "metadata": {},
     "output_type": "execute_result"
    },
    {
     "data": {
      "image/png": "[encoded data removed]",
      "text/plain": [
       "<Figure size 432x288 with 1 Axes>"
      ]
     },
     "metadata": {
      "needs_background": "light"
     },
     "output_type": "display_data"
    }
   ],
   "source": [
    "sns.boxplot(df[\"reading_score\"], orient=\"v\")"
   ]
  },
  {
   "cell_type": "markdown",
   "id": "3fb6f737",
   "metadata": {},
   "source": [
    "#### b) Writing Score"
   ]
  },
  {
   "cell_type": "code",
   "execution_count": 18,
   "id": "83a49a8c",
   "metadata": {},
   "outputs": [
    {
     "data": {
      "text/plain": [
       "<AxesSubplot: >"
      ]
     },
     "execution_count": 18,
     "metadata": {},
     "output_type": "execute_result"
    },
    {
     "data": {
      "image/png": "[encoded data removed]",
      "text/plain": [
       "<Figure size 432x288 with 1 Axes>"
      ]
     },
     "metadata": {
      "needs_background": "light"
     },
     "output_type": "display_data"
    }
   ],
   "source": [
    "sns.boxplot(df[\"writing_score\"], orient=\"v\", palette=(\"husl\"))"
   ]
  },
  {
   "cell_type": "markdown",
   "id": "b8020dd2",
   "metadata": {},
   "source": [
    "### Skewness"
   ]
  },
  {
   "cell_type": "code",
   "execution_count": 19,
   "id": "d6e5e1de",
   "metadata": {},
   "outputs": [
    {
     "name": "stdout",
     "output_type": "stream",
     "text": [
      "Reading Score : -0.25910451810923063\n",
      "Writing Score : -0.0682654585647704\n"
     ]
    }
   ],
   "source": [
    "print(\"Reading Score : \" + str(df['reading_score'].skew()))\n",
    "print(\"Writing Score : \" + str(df['reading_score'].kurtosis()))"
   ]
  },
  {
   "cell_type": "markdown",
   "id": "4dd56399",
   "metadata": {},
   "source": [
    "### Kurtosis"
   ]
  },
  {
   "cell_type": "code",
   "execution_count": 20,
   "id": "0c9c0dd4",
   "metadata": {},
   "outputs": [
    {
     "name": "stdout",
     "output_type": "stream",
     "text": [
      "Reading Score : -0.28944397150761897\n",
      "Writing Score : -0.03336461500693577\n"
     ]
    }
   ],
   "source": [
    "print(\"Reading Score : \" + str(df['writing_score'].skew()))\n",
    "print(\"Writing Score : \" + str(df['writing_score'].kurtosis()))"
   ]
  },
  {
   "cell_type": "markdown",
   "id": "83a66724",
   "metadata": {},
   "source": [
    "## Buat scater plot antara writing_score (dependent variable-Y) versus reading_score (independent variable-X). Tulis interpretasi saudara apakah ada indikasi hubungan liear antar keduanya."
   ]
  },
  {
   "cell_type": "code",
   "execution_count": 21,
   "id": "2277697d",
   "metadata": {},
   "outputs": [
    {
     "data": {
      "image/png": "[encoded data removed]",
      "text/plain": [
       "<Figure size 1080x720 with 2 Axes>"
      ]
     },
     "metadata": {
      "needs_background": "light"
     },
     "output_type": "display_data"
    }
   ],
   "source": [
    "plt.figure(figsize=(15,10))\n",
    "plt.scatter(df['reading_score'],df['writing_score'],c=df['math_score'], cmap='Spectral')\n",
    "plt.colorbar().set_label(\"Math Score\")\n",
    "plt.title('Hubungan antara nilai matematika terhadap  nilai baca dan tulis')\n",
    "plt.xlabel('Reading Score')\n",
    "plt.ylabel('Writing Score')\n",
    "plt.show()"
   ]
  }
 ],
 "metadata": {
  "kernelspec": {
   "display_name": "Python 3.10.7 64-bit",
   "language": "python",
   "name": "python3"
  },
  "language_info": {
   "codemirror_mode": {
    "name": "ipython",
    "version": 3
   },
   "file_extension": ".py",
   "mimetype": "text/x-python",
   "name": "python",
   "nbconvert_exporter": "python",
   "pygments_lexer": "ipython3",
   "version": "3.10.7"
  },
  "vscode": {
   "interpreter": {
    "hash": "f2ccb58c476f33ba3e3aee7ac07234ef6b8217ef24ad64d2a7d4fed1a57c1cd2"
   }
  }
 },
 "nbformat": 4,
 "nbformat_minor": 5
}
